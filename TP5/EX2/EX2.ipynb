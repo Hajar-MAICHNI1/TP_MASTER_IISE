{
 "cells": [
  {
   "cell_type": "markdown",
   "metadata": {},
   "source": [
    "**Exercice 2 : Écriture dans un Fichier**\n",
    "1. Écrivez un script qui demande à l'utilisateur d'entrer trois phrases.\n",
    "2. Enregistrez ces phrases dans un fichier nommé \"phrases.txt\", chaque phrase devant être sur une \n",
    "nouvelle ligne."
   ]
  },
  {
   "cell_type": "code",
   "execution_count": 2,
   "metadata": {},
   "outputs": [
    {
     "name": "stdout",
     "output_type": "stream",
     "text": [
      "Les phrases ont été enregistrées.\n"
     ]
    }
   ],
   "source": [
    "# Tapez trois phrases\n",
    "phrases = []\n",
    "for i in range(3):\n",
    "    phrase = input(f\"Entrez la phrase {i + 1} : \")\n",
    "    phrases.append(phrase)\n",
    "\n",
    "# Enregistrer les phrases dans le fichier phrases.txt\n",
    "with open(\"phrases.txt\", \"w\") as fichier:\n",
    "    for phrase in phrases:\n",
    "        fichier.write(phrase + \"\\n\")\n",
    "\n",
    "print(\"Les phrases ont été enregistrées.\")    "
   ]
  }
 ],
 "metadata": {
  "kernelspec": {
   "display_name": "Python 3",
   "language": "python",
   "name": "python3"
  },
  "language_info": {
   "codemirror_mode": {
    "name": "ipython",
    "version": 3
   },
   "file_extension": ".py",
   "mimetype": "text/x-python",
   "name": "python",
   "nbconvert_exporter": "python",
   "pygments_lexer": "ipython3",
   "version": "3.13.1"
  }
 },
 "nbformat": 4,
 "nbformat_minor": 2
}
