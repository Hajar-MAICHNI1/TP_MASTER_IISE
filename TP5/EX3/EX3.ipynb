{
 "cells": [
  {
   "cell_type": "code",
   "execution_count": 4,
   "metadata": {},
   "outputs": [
    {
     "name": "stdout",
     "output_type": "stream",
     "text": [
      "La phrase ajoutée : \"EFGH\"\n",
      "La phrase ajoutée : \"azerty\"\n",
      "Ajout terminé.\n"
     ]
    }
   ],
   "source": [
    "with open(\"phrases.txt\", \"a\") as fichier:\n",
    "    while True:\n",
    "        \n",
    "        phrase = input(\"Entrez une phrase: \")\n",
    "        # Écrire la phrase \n",
    "        fichier.write(phrase + \"\\n\")\n",
    "        print(f\"La phrase ajoutée : \\\"{phrase}\\\"\")\n",
    "        \n",
    "        # Demander à l'utilisateur s'il veut ajouter une autre phrase\n",
    "        continuer = input(\"Souhaitez-vous ajouter une autre phrase ? (oui/non) : \").strip().lower()\n",
    "        if continuer != \"oui\":\n",
    "            print(\"Ajout terminé.\")\n",
    "            break\n"
   ]
  }
 ],
 "metadata": {
  "kernelspec": {
   "display_name": "Python 3",
   "language": "python",
   "name": "python3"
  },
  "language_info": {
   "codemirror_mode": {
    "name": "ipython",
    "version": 3
   },
   "file_extension": ".py",
   "mimetype": "text/x-python",
   "name": "python",
   "nbconvert_exporter": "python",
   "pygments_lexer": "ipython3",
   "version": "3.13.1"
  }
 },
 "nbformat": 4,
 "nbformat_minor": 2
}
