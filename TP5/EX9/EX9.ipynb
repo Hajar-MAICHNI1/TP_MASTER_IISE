{
 "cells": [
  {
   "cell_type": "markdown",
   "metadata": {},
   "source": [
    "**Exercice 9 : Statistiques de Fichier**\n",
    "1. Écrivez un script qui lit un fichier texte et calcule :\n",
    " - Le nombre total de lignes.\n",
    " - Le nombre total de mots.\n",
    " - Le nombre total de caractères.\n",
    "2. Affichez ces statistiques à l'utilisateur."
   ]
  },
  {
   "cell_type": "code",
   "execution_count": 1,
   "metadata": {},
   "outputs": [
    {
     "name": "stdout",
     "output_type": "stream",
     "text": [
      "Statistiques du fichier 'texte.txt' :\n",
      "Nombre de lignes : 6\n",
      "Nombre de mots : 52\n",
      "Nombre de caractères : 355\n"
     ]
    }
   ],
   "source": [
    "def calculer_statistiques(fichier):\n",
    "    try:\n",
    "        with open(fichier, \"r\") as f:\n",
    "            contenu = f.readlines()\n",
    "        \n",
    "        nb_lignes = len(contenu)\n",
    "        nb_mots = sum(len(ligne.split()) for ligne in contenu)\n",
    "        nb_caracteres = sum(len(ligne) for ligne in contenu)\n",
    "        \n",
    "        print(f\"Statistiques du fichier '{fichier}' :\")\n",
    "        print(f\"Nombre de lignes : {nb_lignes}\")\n",
    "        print(f\"Nombre de mots : {nb_mots}\")\n",
    "        print(f\"Nombre de caractères : {nb_caracteres}\")\n",
    "    \n",
    "    except FileNotFoundError:\n",
    "        print(f\"Le fichier '{fichier}' n'existe pas.\")\n",
    "\n",
    "# Nom du fichier à analyser\n",
    "fichier_texte = \"texte.txt\" \n",
    "calculer_statistiques(fichier_texte)\n"
   ]
  }
 ],
 "metadata": {
  "kernelspec": {
   "display_name": "Python 3",
   "language": "python",
   "name": "python3"
  },
  "language_info": {
   "codemirror_mode": {
    "name": "ipython",
    "version": 3
   },
   "file_extension": ".py",
   "mimetype": "text/x-python",
   "name": "python",
   "nbconvert_exporter": "python",
   "pygments_lexer": "ipython3",
   "version": "3.13.1"
  }
 },
 "nbformat": 4,
 "nbformat_minor": 2
}
