{
 "cells": [
  {
   "cell_type": "markdown",
   "metadata": {},
   "source": [
    "**Exercice 1 : Lecture de Fichiers**\n",
    "1. Créez un fichier texte nommé \"exemple.txt\" contenant au moins cinq lignes de texte.\n",
    "2. Écrivez un script Python qui lit ce fichier et affiche chaque ligne avec son numéro (1, 2, 3, etc.)."
   ]
  },
  {
   "cell_type": "code",
   "execution_count": 1,
   "metadata": {},
   "outputs": [
    {
     "name": "stdout",
     "output_type": "stream",
     "text": [
      "1: Understanding the underlying file system is also crucial.\n",
      "2: File systems organize data on hard drives and storage systems,\n",
      "3: providing a hierarchy of directories and files. In Python, it\n",
      "4: is important to know the difference between relative and absolute\n",
      "5: paths. A relative path specifies the location of a file relative to\n",
      "6: the current working directory, while an absolute path provides the\n",
      "7: full path starting from the root of the file system. This understanding\n",
      "8: of file types and file systems sets the stage for effective file\n",
      "9: manipulation in Python.\n"
     ]
    }
   ],
   "source": [
    "#Ouverture de Fichier\n",
    "#fichier=open(\"exemple.txt\", \"r\" )\n",
    "\n",
    "with open(\"exemple.txt\", \"r\")as fichier:\n",
    "    ligne = fichier.readline()\n",
    "    #Affiche chaque ligne du texte avec son numéro\n",
    "    for index, ligne in enumerate(fichier, start=1):\n",
    "         print(f\"{index}: {ligne.strip()}\")"
   ]
  }
 ],
 "metadata": {
  "kernelspec": {
   "display_name": "Python 3",
   "language": "python",
   "name": "python3"
  },
  "language_info": {
   "codemirror_mode": {
    "name": "ipython",
    "version": 3
   },
   "file_extension": ".py",
   "mimetype": "text/x-python",
   "name": "python",
   "nbconvert_exporter": "python",
   "pygments_lexer": "ipython3",
   "version": "3.13.1"
  }
 },
 "nbformat": 4,
 "nbformat_minor": 2
}
