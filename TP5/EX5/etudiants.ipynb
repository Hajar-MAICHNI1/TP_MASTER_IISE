{
 "cells": [
  {
   "cell_type": "code",
   "execution_count": 2,
   "metadata": {},
   "outputs": [
    {
     "name": "stdout",
     "output_type": "stream",
     "text": [
      "Les informations ont été enregistrées dans 'etudiants.json'.\n",
      "\n",
      "Informations des étudiants :\n",
      "Nom : Hajar, Âge : 21, Note : 15.5\n",
      "Nom : Khaoula, Âge : 22, Note : 12.0\n",
      "Nom : Lamyae, Âge : 22, Note : 18.0\n"
     ]
    }
   ],
   "source": [
    "import json\n",
    "\n",
    "# Étape 1 : Création d'un dictionnaire \n",
    "etudiants = {\n",
    "    \"etudiants\": [\n",
    "        {\"nom\": \"Hajar\", \"âge\": 21, \"note\": 15.5},\n",
    "        {\"nom\": \"Khaoula\", \"âge\": 22, \"note\": 12.0},\n",
    "        {\"nom\": \"Lamyae\", \"âge\": 22, \"note\": 18.0}\n",
    "    ]\n",
    "}\n",
    "\n",
    "# Étape 2 : Enregistrement du dictionnaire dans un fichier JSON\n",
    "with open(\"etudiants.json\", \"w\", encoding=\"utf-8\") as fichier:\n",
    "    json.dump(etudiants, fichier, indent=4, ensure_ascii=False)\n",
    "\n",
    "print(\"Les informations ont été enregistrées dans 'etudiants.json'.\")\n",
    "\n",
    "# Étape 3 : Lecture du fichier JSON et affichage des informations\n",
    "with open(\"etudiants.json\", \"r\", encoding=\"utf-8\") as fichier:\n",
    "    donnees = json.load(fichier)\n",
    "\n",
    "print(\"\\nInformations des étudiants :\")\n",
    "for etudiant in donnees[\"etudiants\"]:\n",
    "    print(f\"Nom : {etudiant['nom']}, Âge : {etudiant['âge']}, Note : {etudiant['note']}\")\n"
   ]
  }
 ],
 "metadata": {
  "kernelspec": {
   "display_name": "Python 3",
   "language": "python",
   "name": "python3"
  },
  "language_info": {
   "codemirror_mode": {
    "name": "ipython",
    "version": 3
   },
   "file_extension": ".py",
   "mimetype": "text/x-python",
   "name": "python",
   "nbconvert_exporter": "python",
   "pygments_lexer": "ipython3",
   "version": "3.13.1"
  }
 },
 "nbformat": 4,
 "nbformat_minor": 2
}
