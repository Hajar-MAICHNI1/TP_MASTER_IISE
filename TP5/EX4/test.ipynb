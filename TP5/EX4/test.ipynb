{
 "cells": [
  {
   "cell_type": "code",
   "execution_count": 2,
   "metadata": {},
   "outputs": [],
   "source": [
    "import csv\n",
    "\n",
    "# Création du fichier CSV \n",
    "with open(\"contacts.csv\", mode=\"w\", newline=\"\", encoding=\"utf-8\") as fichier:\n",
    "    writer = csv.writer(fichier)\n",
    "    \n",
    "    writer.writerow([\"Nom\", \"Âge\", \"Ville\"])\n",
    "    # Ajout \n",
    "    writer.writerow([\"Hajar\", \"21\", \"Agadir\"])\n",
    "    writer.writerow([\"Lamyae\", \"22\", \"Laayoune\"])\n",
    "    writer.writerow([\"Ayoub\", \"31\", \"Rabat\"])\n"
   ]
  }
 ],
 "metadata": {
  "kernelspec": {
   "display_name": "Python 3",
   "language": "python",
   "name": "python3"
  },
  "language_info": {
   "codemirror_mode": {
    "name": "ipython",
    "version": 3
   },
   "file_extension": ".py",
   "mimetype": "text/x-python",
   "name": "python",
   "nbconvert_exporter": "python",
   "pygments_lexer": "ipython3",
   "version": "3.13.1"
  }
 },
 "nbformat": 4,
 "nbformat_minor": 2
}
