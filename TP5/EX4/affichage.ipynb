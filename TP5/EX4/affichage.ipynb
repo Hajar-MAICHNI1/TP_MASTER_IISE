{
 "cells": [
  {
   "cell_type": "code",
   "execution_count": 8,
   "metadata": {},
   "outputs": [
    {
     "name": "stdout",
     "output_type": "stream",
     "text": [
      "Liste des contacts :\n",
      "Nom : Hajar, Âge : 21, Ville : Agadir\n",
      "Nom : Lamyae, Âge : 22, Ville : Laayoune\n",
      "Nom : Ayoub, Âge : 31, Ville : Rabat\n"
     ]
    }
   ],
   "source": [
    "import csv\n",
    "\n",
    "    # Lecture du fichier CSV\n",
    "with open(\"contacts.csv\", mode=\"r\", encoding=\"utf-8\") as fichier:\n",
    "    reader = csv.DictReader(fichier)  # Utiliser DictReader pour un accès par nom de colonne\n",
    "    print(\"Liste des contacts :\")\n",
    "    for ligne in reader:\n",
    "        print(f\"Nom : {ligne['Nom']}, Âge : {ligne['Âge']}, Ville : {ligne['Ville']}\")\n",
    "\n"
   ]
  }
 ],
 "metadata": {
  "kernelspec": {
   "display_name": "Python 3",
   "language": "python",
   "name": "python3"
  },
  "language_info": {
   "codemirror_mode": {
    "name": "ipython",
    "version": 3
   },
   "file_extension": ".py",
   "mimetype": "text/x-python",
   "name": "python",
   "nbconvert_exporter": "python",
   "pygments_lexer": "ipython3",
   "version": "3.13.1"
  }
 },
 "nbformat": 4,
 "nbformat_minor": 2
}
