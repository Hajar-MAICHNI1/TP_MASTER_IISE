{
 "cells": [
  {
   "cell_type": "markdown",
   "metadata": {},
   "source": [
    "**Exercice 3 : Lecture de Fichier**\n",
    "\n",
    "Écrivez une fonction `read_file(filename)` qui tente d'ouvrir et de lire un fichier. Si le fichier \n",
    "n'existe pas, la fonction doit gérer l'exception `FileNotFoundError` et imprimer un message d'erreur.\n",
    "Utilisez également un bloc `finally` pour garantir que le fichier est fermé."
   ]
  },
  {
   "cell_type": "code",
   "execution_count": 9,
   "metadata": {},
   "outputs": [
    {
     "name": "stdout",
     "output_type": "stream",
     "text": [
      "Erreur: le fichier 'exemple.txt' n'existe pas\n"
     ]
    }
   ],
   "source": [
    "def read_file(filename):\n",
    "    file = None\n",
    "    try:\n",
    "        file = open(filename, 'r')\n",
    "        content = file.read\n",
    "        return content\n",
    "    except (FileNotFoundError):\n",
    "        return (f\"Erreur: le fichier '{filename}' n'existe pas\")\n",
    "    finally:\n",
    "        if file is not None:\n",
    "            file.close()\n",
    "#Exemple d'utilisation\n",
    "content = read_file(\"exemple.txt\")\n",
    "if content:\n",
    "    print(content)"
   ]
  }
 ],
 "metadata": {
  "kernelspec": {
   "display_name": "Python 3",
   "language": "python",
   "name": "python3"
  },
  "language_info": {
   "codemirror_mode": {
    "name": "ipython",
    "version": 3
   },
   "file_extension": ".py",
   "mimetype": "text/x-python",
   "name": "python",
   "nbconvert_exporter": "python",
   "pygments_lexer": "ipython3",
   "version": "3.13.1"
  }
 },
 "nbformat": 4,
 "nbformat_minor": 2
}
