{
 "cells": [
  {
   "cell_type": "markdown",
   "metadata": {},
   "source": [
    "**Exercice 7 : Journalisation des Exceptions** \n",
    "\n",
    "Utilisez le module `logging` pour créer une fonction `log_error(message)` qui enregistre les erreurs \n",
    "dans un fichier `error.log`. Modifiez l'exercice 3 pour utiliser cette fonction pour enregistrer une \n",
    "erreur si le fichier n'est pas trouvé."
   ]
  },
  {
   "cell_type": "code",
   "execution_count": 3,
   "metadata": {},
   "outputs": [
    {
     "name": "stdout",
     "output_type": "stream",
     "text": [
      "Erreur : Le fichier 'exemple.txt' n'existe pas.\n"
     ]
    }
   ],
   "source": [
    "import logging\n",
    "\n",
    "# Configuration du logger\n",
    "logging.basicConfig(filename='error.log', level=logging.ERROR)\n",
    "\n",
    "def log_error(message):\n",
    "   \n",
    "    logging.error(message)\n",
    "\n",
    "def read_file(filename):\n",
    "   \n",
    "    try:\n",
    "        with open(filename, 'r') as file:\n",
    "            content = file.read()\n",
    "            return content\n",
    "    except FileNotFoundError:\n",
    "        error_message = f\"Erreur : Le fichier '{filename}' n'existe pas.\"\n",
    "        print(error_message)  # Afficher l'erreur à l'utilisateur\n",
    "        log_error(error_message)  # Enregistrer l'erreur dans le log\n",
    "    except Exception as e:\n",
    "        error_message = f\"Une erreur est survenue : {e}\"\n",
    "        print(error_message)  # Afficher l'erreur à l'utilisateur\n",
    "        log_error(error_message)  # Enregistrer l'erreur dans le log\n",
    "\n",
    "# Exemple d'utilisation\n",
    "content = read_file(\"exemple.txt\")\n",
    "if content:\n",
    "    print(content)\n"
   ]
  }
 ],
 "metadata": {
  "kernelspec": {
   "display_name": "Python 3",
   "language": "python",
   "name": "python3"
  },
  "language_info": {
   "codemirror_mode": {
    "name": "ipython",
    "version": 3
   },
   "file_extension": ".py",
   "mimetype": "text/x-python",
   "name": "python",
   "nbconvert_exporter": "python",
   "pygments_lexer": "ipython3",
   "version": "3.13.1"
  }
 },
 "nbformat": 4,
 "nbformat_minor": 2
}
