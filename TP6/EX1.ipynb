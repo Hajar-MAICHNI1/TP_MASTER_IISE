{
 "cells": [
  {
   "cell_type": "markdown",
   "metadata": {},
   "source": [
    "**Exercice 1 : Division par Zéro**\n",
    "\n",
    "Écrivez une fonction `safe_division(a, b)` qui prend deux arguments et renvoie le résultat de la \n",
    "division de `a` par `b`. Si `b` est zéro, la fonction doit lever une exception `ZeroDivisionError` avec\n",
    "un message approprié."
   ]
  },
  {
   "cell_type": "code",
   "execution_count": 3,
   "metadata": {},
   "outputs": [
    {
     "name": "stdout",
     "output_type": "stream",
     "text": [
      "La division par 0 est impossible.\n"
     ]
    }
   ],
   "source": [
    "def safe_division(a, b):\n",
    "    if b == 0:\n",
    "        raise ZeroDivisionError(\"La division par 0 est impossible.\") #blast raise... ndiro ghi return\n",
    "    return a / b\n",
    "\n",
    "# Exemple d'utilisation\n",
    "try:\n",
    "    result = safe_division(10, 0)\n",
    "except ZeroDivisionError as e:\n",
    "    print(e)  \n"
   ]
  }
 ],
 "metadata": {
  "kernelspec": {
   "display_name": "Python 3",
   "language": "python",
   "name": "python3"
  },
  "language_info": {
   "codemirror_mode": {
    "name": "ipython",
    "version": 3
   },
   "file_extension": ".py",
   "mimetype": "text/x-python",
   "name": "python",
   "nbconvert_exporter": "python",
   "pygments_lexer": "ipython3",
   "version": "3.13.1"
  }
 },
 "nbformat": 4,
 "nbformat_minor": 2
}
