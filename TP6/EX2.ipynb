{
 "cells": [
  {
   "cell_type": "markdown",
   "metadata": {},
   "source": [
    "**Exercice 2 : Vérification de Type**\n",
    "\n",
    "Créez une fonction `convert_to_int(value)` qui tente de convertir `value` en entier. Si `value` n'est \n",
    "pas convertible, la fonction doit lever une exception `ValueError` avec un message indiquant que la \n",
    "conversion a échoué."
   ]
  },
  {
   "cell_type": "code",
   "execution_count": null,
   "metadata": {},
   "outputs": [],
   "source": [
    "def convert_to_int(value):\n",
    "    try:\n",
    "        return int(value)\n",
    "    except (ValueError):\n",
    "        raise ValueError(f\"La conversion a échoué.\")\n",
    "\n",
    "# Exemple d'utilisation\n",
    "try:\n",
    "   result = convert_to_int(\"abc\") \n",
    "except ValueError as e:\n",
    "    print(e) \n"
   ]
  }
 ],
 "metadata": {
  "kernelspec": {
   "display_name": "Python 3",
   "language": "python",
   "name": "python3"
  },
  "language_info": {
   "codemirror_mode": {
    "name": "ipython",
    "version": 3
   },
   "file_extension": ".py",
   "mimetype": "text/x-python",
   "name": "python",
   "nbconvert_exporter": "python",
   "pygments_lexer": "ipython3",
   "version": "3.13.1"
  }
 },
 "nbformat": 4,
 "nbformat_minor": 2
}
