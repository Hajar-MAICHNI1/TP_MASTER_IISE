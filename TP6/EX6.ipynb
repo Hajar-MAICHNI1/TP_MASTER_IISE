{
 "cells": [
  {
   "cell_type": "markdown",
   "metadata": {},
   "source": [
    "**Exercice 6 : Utilisation de `else` et `finally`**\n",
    "\n",
    "Modifiez l'exercice 1 pour inclure un bloc `else` qui imprime un message indiquant que la division \n",
    "a été effectuée avec succès, et un bloc `finally` qui indique que la fonction est terminée, quel que \n",
    "soit le résultat.\n"
   ]
  },
  {
   "cell_type": "code",
   "execution_count": 2,
   "metadata": {},
   "outputs": [
    {
     "name": "stdout",
     "output_type": "stream",
     "text": [
      "La division a été effectuée avec succès.\n",
      "DONE.\n",
      "Résultat : 5.0\n",
      "La division par zéro n'est pas autorisée.\n",
      "DONE.\n"
     ]
    }
   ],
   "source": [
    "def safe_division(a, b):\n",
    "\n",
    "    try:\n",
    "        if b == 0:\n",
    "            raise ZeroDivisionError(\"La division par zéro n'est pas autorisée.\")\n",
    "        \n",
    "        result = a / b\n",
    "        \n",
    "    except ZeroDivisionError as e:\n",
    "        print(e)  \n",
    "    else:\n",
    "        print(\"La division a été effectuée avec succès.\")\n",
    "        return result \n",
    "    finally:\n",
    "        print(\"DONE.\")\n",
    "\n",
    "# Exemple d'utilisation\n",
    "result = safe_division(10, 2)  \n",
    "print(\"Résultat :\", result)\n",
    "\n",
    "result = safe_division(10, 0)  \n"
   ]
  }
 ],
 "metadata": {
  "kernelspec": {
   "display_name": "Python 3",
   "language": "python",
   "name": "python3"
  },
  "language_info": {
   "codemirror_mode": {
    "name": "ipython",
    "version": 3
   },
   "file_extension": ".py",
   "mimetype": "text/x-python",
   "name": "python",
   "nbconvert_exporter": "python",
   "pygments_lexer": "ipython3",
   "version": "3.13.1"
  }
 },
 "nbformat": 4,
 "nbformat_minor": 2
}
