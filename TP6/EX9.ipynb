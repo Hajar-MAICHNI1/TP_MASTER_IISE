{
 "cells": [
  {
   "cell_type": "markdown",
   "metadata": {},
   "source": [
    "**Exercice 9 : Gestion des Exceptions dans les Boucles**\n",
    "\n",
    "Créez une fonction `get_positive_integer()` qui demande à l'utilisateur de saisir un entier positif. \n",
    "Utilisez une boucle pour continuer à demander jusqu'à ce qu'une saisie valide soit fournie. Gérez les\n",
    "exceptions de conversion et vérifiez que l'entier est positif."
   ]
  },
  {
   "cell_type": "code",
   "execution_count": 3,
   "metadata": {},
   "outputs": [
    {
     "name": "stdout",
     "output_type": "stream",
     "text": [
      "Erreur : tapez un nombre entier valide.\n",
      "l'entier positif : 6\n"
     ]
    }
   ],
   "source": [
    "def get_positive_integer():\n",
    "\n",
    "    while True:\n",
    "        user_input = input(\"tapez un entier positif : \")\n",
    "        try:\n",
    "            # conversion de l'entrée en entier\n",
    "            number = int(user_input)\n",
    "            # Vérifier si le nombre est positif\n",
    "            if number <= 0:\n",
    "                print(\"Erreur : L'entier doit être positif. Réessayer.\")\n",
    "                continue\n",
    "            return number  # Retourner le nombre valide\n",
    "        except ValueError:\n",
    "            print(\"Erreur : tapez un nombre entier valide.\")\n",
    "\n",
    "# Exemple d'utilisation\n",
    "positive_integer = get_positive_integer()\n",
    "print(f\"l'entier positif : {positive_integer}\")\n"
   ]
  }
 ],
 "metadata": {
  "kernelspec": {
   "display_name": "Python 3",
   "language": "python",
   "name": "python3"
  },
  "language_info": {
   "codemirror_mode": {
    "name": "ipython",
    "version": 3
   },
   "file_extension": ".py",
   "mimetype": "text/x-python",
   "name": "python",
   "nbconvert_exporter": "python",
   "pygments_lexer": "ipython3",
   "version": "3.13.1"
  }
 },
 "nbformat": 4,
 "nbformat_minor": 2
}
