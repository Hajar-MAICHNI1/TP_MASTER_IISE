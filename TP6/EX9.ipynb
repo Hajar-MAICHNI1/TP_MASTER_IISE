{
 "cells": [
  {
   "cell_type": "markdown",
   "metadata": {},
   "source": [
    "**Exercice 9 : Gestion des Exceptions dans les Boucles**\n",
    "\n",
    "Créez une fonction `get_positive_integer()` qui demande à l'utilisateur de saisir un entier positif. \n",
    "Utilisez une boucle pour continuer à demander jusqu'à ce qu'une saisie valide soit fournie. Gérez les\n",
    "exceptions de conversion et vérifiez que l'entier est positif."
   ]
  },
  {
   "cell_type": "code",
   "execution_count": null,
   "metadata": {},
   "outputs": [],
   "source": []
  }
 ],
 "metadata": {
  "language_info": {
   "name": "python"
  }
 },
 "nbformat": 4,
 "nbformat_minor": 2
}
