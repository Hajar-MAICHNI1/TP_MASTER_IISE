{
 "cells": [
  {
   "cell_type": "markdown",
   "metadata": {},
   "source": [
    "**Exercice 4 : Exceptions Personnalisées**\n",
    "\n",
    "Créez une exception personnalisée `NegativeAgeError`. Écrivez une fonction `set_age(age)` qui \n",
    "lève cette exception si l'âge est négatif. Testez la fonction dans un bloc `try` et gérez l'exception en \n",
    "imprimant un message approprié.\n"
   ]
  },
  {
   "cell_type": "code",
   "execution_count": 5,
   "metadata": {},
   "outputs": [
    {
     "name": "stdout",
     "output_type": "stream",
     "text": [
      "l age est negative\n"
     ]
    }
   ],
   "source": [
    "class NegativeAgeError(Exception):\n",
    "\n",
    "    pass\n",
    "\n",
    "def set_age(age):\n",
    "    if age < 0:\n",
    "        raise NegativeAgeError (f\"l age est negative\")\n",
    "    return age\n",
    "\n",
    "try:\n",
    "    result = set_age(-12)\n",
    "except NegativeAgeError as e:\n",
    "    print(e)\n"
   ]
  }
 ],
 "metadata": {
  "kernelspec": {
   "display_name": "Python 3",
   "language": "python",
   "name": "python3"
  },
  "language_info": {
   "codemirror_mode": {
    "name": "ipython",
    "version": 3
   },
   "file_extension": ".py",
   "mimetype": "text/x-python",
   "name": "python",
   "nbconvert_exporter": "python",
   "pygments_lexer": "ipython3",
   "version": "3.13.1"
  }
 },
 "nbformat": 4,
 "nbformat_minor": 2
}
