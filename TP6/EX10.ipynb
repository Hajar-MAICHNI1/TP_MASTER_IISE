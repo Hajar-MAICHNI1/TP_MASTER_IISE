{
 "cells": [
  {
   "cell_type": "markdown",
   "metadata": {},
   "source": [
    "**Exercice 10 : Combinez Tout**\n",
    "\n",
    "Écrivez un programme qui demande à l'utilisateur de saisir un fichier, puis un entier. Utilisez les \n",
    "concepts de gestion des exceptions pour garantir que le fichier est lu avec succès et que l'entier est \n",
    "valide. Gérer toutes les exceptions appropriées et afficher des messages utiles."
   ]
  },
  {
   "cell_type": "code",
   "execution_count": 6,
   "metadata": {},
   "outputs": [
    {
     "name": "stdout",
     "output_type": "stream",
     "text": [
      "Contenu du fichier :\n",
      "ERROR:root:Erreur : Le fichier 'abc' n'existe pas.\n",
      "ERROR:root:Erreur : Le fichier 'phrases.txt' n'existe pas.\n",
      "ERROR:root:Erreur : Le fichier 'abc' n'existe pas.\n",
      "\n",
      "l'entier positif : 4\n"
     ]
    }
   ],
   "source": [
    "import logging\n",
    "\n",
    "# Configuration du logger\n",
    "logging.basicConfig(filename='error.log', level=logging.ERROR)\n",
    "\n",
    "def log_error(message):\n",
    "    logging.error(message)\n",
    "\n",
    "def read_file(filename):\n",
    "    try:\n",
    "        with open(filename, 'r') as file:\n",
    "            return file.read()\n",
    "    except FileNotFoundError:\n",
    "        error_message = f\"Erreur : Le fichier '{filename}' n'existe pas.\"\n",
    "        print(error_message)\n",
    "        log_error(error_message)\n",
    "        return None\n",
    "    except Exception as e:\n",
    "        error_message = f\" erreur  {e}\"\n",
    "        print(error_message)\n",
    "        log_error(error_message)\n",
    "        return None\n",
    "\n",
    "def get_positive_integer():\n",
    "    while True:\n",
    "        user_input = input(\"tapez un entier positif : \")\n",
    "        try:\n",
    "            number = int(user_input)\n",
    "            if number <= 0:\n",
    "                print(\"Erreur : L'entier doit être positif. Réessayer.\")\n",
    "                continue\n",
    "            return number\n",
    "        except ValueError:\n",
    "            print(\"Erreur : tapez un nombre entier valide.\")\n",
    "\n",
    "def main():\n",
    "    # Demande à l'utilisateur de saisir le nom du fichier\n",
    "    filename = input(\"Veuillez entrer le nom du fichier à lire : \")\n",
    "    \n",
    "    # Lecture du fichier\n",
    "    file_content = read_file(filename)\n",
    "    \n",
    "    if file_content is not None:\n",
    "        print(\"Contenu du fichier :\")\n",
    "        print(file_content)  # Affiche le contenu du fichier\n",
    "\n",
    "        # Demande à l'utilisateur de saisir un entier positif\n",
    "        positive_integer = get_positive_integer()\n",
    "        \n",
    "        print(f\"l'entier positif : {positive_integer}\")\n",
    "\n",
    "if __name__ == '__main__':\n",
    "    main()\n"
   ]
  }
 ],
 "metadata": {
  "kernelspec": {
   "display_name": "Python 3",
   "language": "python",
   "name": "python3"
  },
  "language_info": {
   "codemirror_mode": {
    "name": "ipython",
    "version": 3
   },
   "file_extension": ".py",
   "mimetype": "text/x-python",
   "name": "python",
   "nbconvert_exporter": "python",
   "pygments_lexer": "ipython3",
   "version": "3.13.1"
  }
 },
 "nbformat": 4,
 "nbformat_minor": 2
}
