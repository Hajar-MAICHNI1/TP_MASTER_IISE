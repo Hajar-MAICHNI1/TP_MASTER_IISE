{
 "cells": [
  {
   "cell_type": "markdown",
   "metadata": {},
   "source": [
    "**Exercice 10 : Combinez Tout**\n",
    "\n",
    "Écrivez un programme qui demande à l'utilisateur de saisir un fichier, puis un entier. Utilisez les \n",
    "concepts de gestion des exceptions pour garantir que le fichier est lu avec succès et que l'entier est \n",
    "valide. Gérer toutes les exceptions appropriées et afficher des messages utiles."
   ]
  },
  {
   "cell_type": "code",
   "execution_count": null,
   "metadata": {},
   "outputs": [],
   "source": []
  }
 ],
 "metadata": {
  "language_info": {
   "name": "python"
  }
 },
 "nbformat": 4,
 "nbformat_minor": 2
}
