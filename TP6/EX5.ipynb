{
 "cells": [
  {
   "cell_type": "markdown",
   "metadata": {},
   "source": [
    "**Exercice 5 : Multi-Exceptions**\n",
    "\n",
    "Écrivez une fonction `process_input(user_input)` qui tente de convertir `user_input` en entier et \n",
    "d'effectuer une division par 10. Gérez les exceptions `ValueError` et `ZeroDivisionError` dans des \n",
    "blocs `except` séparés, en affichant des messages d'erreur appropriés."
   ]
  },
  {
   "cell_type": "code",
   "execution_count": 11,
   "metadata": {},
   "outputs": [
    {
     "data": {
      "text/plain": [
       "1234.5"
      ]
     },
     "execution_count": 11,
     "metadata": {},
     "output_type": "execute_result"
    }
   ],
   "source": [
    "def process_input(user_input):\n",
    "    try:\n",
    "        nbr = int(user_input)\n",
    "\n",
    "        result = nbr/10\n",
    "        return result\n",
    "\n",
    "    except ValueError:\n",
    "        return (f\"La conversion a échoué.\")\n",
    "    except ZeroDivisionError:\n",
    "        return (f\"la division est impossible\")\n",
    "    \n",
    "user_input = input(\"tapez un nbr: \")\n",
    "process_input(user_input)"
   ]
  }
 ],
 "metadata": {
  "kernelspec": {
   "display_name": "Python 3",
   "language": "python",
   "name": "python3"
  },
  "language_info": {
   "codemirror_mode": {
    "name": "ipython",
    "version": 3
   },
   "file_extension": ".py",
   "mimetype": "text/x-python",
   "name": "python",
   "nbconvert_exporter": "python",
   "pygments_lexer": "ipython3",
   "version": "3.13.1"
  }
 },
 "nbformat": 4,
 "nbformat_minor": 2
}
