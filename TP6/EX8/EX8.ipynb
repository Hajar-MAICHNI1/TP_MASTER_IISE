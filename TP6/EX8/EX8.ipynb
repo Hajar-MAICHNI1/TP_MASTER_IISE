{
 "cells": [
  {
   "cell_type": "markdown",
   "metadata": {},
   "source": [
    "**Exercice 8 : Tests Unitaires pour les Exceptions**\n",
    "\n",
    "Écrivez des tests unitaires pour vérifier que les exceptions sont levées correctement dans les \n",
    "fonctions que vous avez créées dans les exercices précédents. Utilisez le module `unittest` pour \n",
    "cela."
   ]
  }
 ],
 "metadata": {
  "kernelspec": {
   "display_name": "Python 3",
   "language": "python",
   "name": "python3"
  },
  "language_info": {
   "codemirror_mode": {
    "name": "ipython",
    "version": 3
   },
   "file_extension": ".py",
   "mimetype": "text/x-python",
   "name": "python",
   "nbconvert_exporter": "python",
   "pygments_lexer": "ipython3",
   "version": "3.13.1"
  }
 },
 "nbformat": 4,
 "nbformat_minor": 2
}
