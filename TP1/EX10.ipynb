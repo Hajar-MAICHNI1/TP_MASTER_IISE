{
  "nbformat": 4,
  "nbformat_minor": 0,
  "metadata": {
    "colab": {
      "provenance": []
    },
    "kernelspec": {
      "name": "python3",
      "display_name": "Python 3"
    },
    "language_info": {
      "name": "python"
    }
  },
  "cells": [
    {
      "cell_type": "markdown",
      "source": [
        "# ***Série de Travaux Pratiques N° 1***"
      ],
      "metadata": {
        "id": "xlj5opAHH-Mg"
      }
    },
    {
      "cell_type": "markdown",
      "source": [
        "\n",
        "**Exercices Combinés**"
      ],
      "metadata": {
        "id": "270Ik2WQH-ZR"
      }
    },
    {
      "cell_type": "markdown",
      "source": [
        "**Exercice 10 : Fusionner des dictionnaires**\n",
        "\n",
        "Écrivez une fonction `fusionner_dicts(dict1, dict2)` qui prend deux dictionnaires en entrée et\n",
        "retourne un dictionnaire fusionné. Si une clé est présente dans les deux dictionnaires, additionnez\n",
        "leurs valeurs."
      ],
      "metadata": {
        "id": "p36rYD0mH-mi"
      }
    },
    {
      "cell_type": "code",
      "source": [
        "#Exercice 10:\n",
        "def fusionner_dicts(dict1, dict2):\n",
        "  return dict1.union(dict2)\n",
        "  #return dict1 | dict2\n",
        "\n",
        "A= {1,2,3,4,5,6}\n",
        "B= {1,2,3,10}\n",
        "print(fusionner_dicts(A,B))"
      ],
      "metadata": {
        "colab": {
          "base_uri": "https://localhost:8080/"
        },
        "id": "JcN8JlW_IHjl",
        "outputId": "b53a0752-59a6-40d9-c96a-93596ee9e0f2"
      },
      "execution_count": 1,
      "outputs": [
        {
          "output_type": "stream",
          "name": "stdout",
          "text": [
            "{1, 2, 3, 4, 5, 6, 10}\n"
          ]
        }
      ]
    }
  ]
}