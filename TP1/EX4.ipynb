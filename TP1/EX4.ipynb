{
  "nbformat": 4,
  "nbformat_minor": 0,
  "metadata": {
    "colab": {
      "provenance": []
    },
    "kernelspec": {
      "name": "python3",
      "display_name": "Python 3"
    },
    "language_info": {
      "name": "python"
    }
  },
  "cells": [
    {
      "cell_type": "markdown",
      "source": [
        "# ***Série de Travaux Pratiques N° 1***"
      ],
      "metadata": {
        "id": "wKpnd2UUEpwp"
      }
    },
    {
      "cell_type": "markdown",
      "source": [
        "\n",
        "**Exercices sur les Conteneurs**"
      ],
      "metadata": {
        "id": "TDSMFkCXEqJF"
      }
    },
    {
      "cell_type": "markdown",
      "source": [
        "**Exercice 4 : Dictionnaires**\n",
        "\n",
        "Écrivez une fonction `compte_occurences(liste)` qui prend une liste de mots et retourne un dictionnaire où les clés sont les mots et les valeurs sont le nombre d'occurrences de chaque mot."
      ],
      "metadata": {
        "id": "7zEsSP9-Ep-K"
      }
    },
    {
      "cell_type": "code",
      "execution_count": 1,
      "metadata": {
        "colab": {
          "base_uri": "https://localhost:8080/"
        },
        "id": "Y2HVbuqnEm0k",
        "outputId": "f1ff996a-ac40-4f7f-adc2-7f9c220a0a9d"
      },
      "outputs": [
        {
          "output_type": "stream",
          "name": "stdout",
          "text": [
            "{'cat': 2, 'dog': 1, 'lion': 2, 'bird': 2}\n"
          ]
        }
      ],
      "source": [
        "#Exercice 4:\n",
        "def compte_occurences(liste):\n",
        "  occ = {}\n",
        "  for mot in liste:\n",
        "    if mot in occ:\n",
        "      occ[mot] += 1\n",
        "    else:\n",
        "      occ[mot] = 1\n",
        "  return occ\n",
        "\n",
        "print(compte_occurences(['cat','dog','lion','lion','bird','cat','bird']))"
      ]
    }
  ]
}