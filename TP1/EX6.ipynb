{
  "nbformat": 4,
  "nbformat_minor": 0,
  "metadata": {
    "colab": {
      "provenance": []
    },
    "kernelspec": {
      "name": "python3",
      "display_name": "Python 3"
    },
    "language_info": {
      "name": "python"
    }
  },
  "cells": [
    {
      "cell_type": "markdown",
      "source": [
        "# ***Série de Travaux Pratiques N° 1***"
      ],
      "metadata": {
        "id": "CeXbILvvGCew"
      }
    },
    {
      "cell_type": "markdown",
      "source": [
        "\n",
        "**Exercices sur les Fonctions**"
      ],
      "metadata": {
        "id": "AsJ2JTCaGCii"
      }
    },
    {
      "cell_type": "markdown",
      "source": [
        "**Exercice 6 : Fonctions anonymes**\n",
        "\n",
        "Utilisez une fonction lambda pour créer une fonction `carre` qui prend un nombre en entrée et retourne son carré."
      ],
      "metadata": {
        "id": "6zufDcYFGCl-"
      }
    },
    {
      "cell_type": "code",
      "source": [
        "#Exercice 6:\n",
        "def carre():\n",
        "  return lambda n: n**2\n",
        "\n",
        "print(carre()(5))\n",
        "print(carre()(2))"
      ],
      "metadata": {
        "colab": {
          "base_uri": "https://localhost:8080/"
        },
        "id": "t-_nOVZYGL6b",
        "outputId": "3d255651-cf90-46da-aaac-b6ba096cee08"
      },
      "execution_count": 1,
      "outputs": [
        {
          "output_type": "stream",
          "name": "stdout",
          "text": [
            "25\n",
            "4\n"
          ]
        }
      ]
    }
  ]
}