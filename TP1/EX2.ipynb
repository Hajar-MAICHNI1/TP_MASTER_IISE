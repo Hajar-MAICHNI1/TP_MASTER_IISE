{
  "nbformat": 4,
  "nbformat_minor": 0,
  "metadata": {
    "colab": {
      "provenance": []
    },
    "kernelspec": {
      "name": "python3",
      "display_name": "Python 3"
    },
    "language_info": {
      "name": "python"
    }
  },
  "cells": [
    {
      "cell_type": "markdown",
      "source": [
        "# ***Série de Travaux Pratiques N° 1***"
      ],
      "metadata": {
        "id": "c9kHBRK_DR75"
      }
    },
    {
      "cell_type": "markdown",
      "source": [
        "**Exercices sur les Conteneurs**"
      ],
      "metadata": {
        "id": "F0lO1HneDUHw"
      }
    },
    {
      "cell_type": "markdown",
      "source": [
        "**Exercice 2 : Tuples**\n",
        "\n",
        "Écrivez une fonction `max_tuple(t)` qui prend un tuple de nombres et retourne le plus grand nombre dans le tuple."
      ],
      "metadata": {
        "id": "2JvpxL7tDbKX"
      }
    },
    {
      "cell_type": "code",
      "execution_count": 1,
      "metadata": {
        "colab": {
          "base_uri": "https://localhost:8080/"
        },
        "id": "aNoEWJaEDLjW",
        "outputId": "713672ed-88ef-4d0b-ce0f-b4962cb9e7d8"
      },
      "outputs": [
        {
          "output_type": "stream",
          "name": "stdout",
          "text": [
            "5\n"
          ]
        }
      ],
      "source": [
        "#Exercice 2:\n",
        "def max_tuple(t):\n",
        "\n",
        "    max_val = t[0]\n",
        "\n",
        "    for nombre in t:\n",
        "        if nombre > max_val:\n",
        "            max_val = nombre\n",
        "\n",
        "    return max_val\n",
        "\n",
        "print(max_tuple((1, 5, 3)))"
      ]
    }
  ]
}