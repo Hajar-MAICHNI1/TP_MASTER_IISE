{
  "nbformat": 4,
  "nbformat_minor": 0,
  "metadata": {
    "colab": {
      "provenance": []
    },
    "kernelspec": {
      "name": "python3",
      "display_name": "Python 3"
    },
    "language_info": {
      "name": "python"
    }
  },
  "cells": [
    {
      "cell_type": "markdown",
      "source": [
        "# ***Série de Travaux Pratiques N° 1***"
      ],
      "metadata": {
        "id": "MRdVIqGdD8UD"
      }
    },
    {
      "cell_type": "markdown",
      "source": [
        "\n",
        "**Exercices sur les Conteneurs**"
      ],
      "metadata": {
        "id": "BtYHBwOiD8h_"
      }
    },
    {
      "cell_type": "markdown",
      "source": [
        "**Exercice 3 : Ensembles**\n",
        "\n",
        "Écrivez une fonction `intersection(ensemble1, ensemble2)` qui prend deux ensembles en entrée et retourne un nouvel ensemble contenant les éléments présents dans les deux ensembles.\n"
      ],
      "metadata": {
        "id": "qHBhOr0ND-rQ"
      }
    },
    {
      "cell_type": "code",
      "execution_count": 2,
      "metadata": {
        "colab": {
          "base_uri": "https://localhost:8080/"
        },
        "id": "mCklKcU7D56W",
        "outputId": "641cdfbc-9215-48f3-9a9b-f8d051680453"
      },
      "outputs": [
        {
          "output_type": "stream",
          "name": "stdout",
          "text": [
            "{10, 2}\n"
          ]
        }
      ],
      "source": [
        " #Exercice 3:\n",
        "def intersection(ens1,ens2):\n",
        "   inter = set()\n",
        "   for elem in ens1:\n",
        "    if elem in ens2:\n",
        "      inter.add(elem)\n",
        "   return inter\n",
        "\n",
        "print(intersection({1,2,3,10},{2,10,11}))"
      ]
    }
  ]
}