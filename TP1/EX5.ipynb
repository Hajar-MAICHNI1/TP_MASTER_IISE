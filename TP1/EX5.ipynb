{
  "nbformat": 4,
  "nbformat_minor": 0,
  "metadata": {
    "colab": {
      "provenance": []
    },
    "kernelspec": {
      "name": "python3",
      "display_name": "Python 3"
    },
    "language_info": {
      "name": "python"
    }
  },
  "cells": [
    {
      "cell_type": "markdown",
      "source": [
        "# ***Série de Travaux Pratiques N° 1***"
      ],
      "metadata": {
        "id": "7BqlP3bwFXhu"
      }
    },
    {
      "cell_type": "markdown",
      "source": [
        "\n",
        "**Exercices sur les Fonctions**"
      ],
      "metadata": {
        "id": "0KyIR7XfFXmr"
      }
    },
    {
      "cell_type": "markdown",
      "source": [
        "**Exercice 5 : Fonction récursive**\n",
        "\n",
        "Écrivez une fonction récursive `factorielle(n)` qui retourne la factorielle d'un nombre entier `n`."
      ],
      "metadata": {
        "id": "q79-QyHgFXwq"
      }
    },
    {
      "cell_type": "code",
      "source": [
        "#Exercice 5:\n",
        "def factorielle(n):\n",
        "  if n==0 or n==1:\n",
        "    return 1\n",
        "  else:\n",
        "    return n * factorielle(n-1)\n",
        "\n",
        "print(factorielle(5))\n",
        "print(factorielle(3))\n",
        "print(factorielle(0))"
      ],
      "metadata": {
        "colab": {
          "base_uri": "https://localhost:8080/"
        },
        "id": "3W7eDim7Fqmd",
        "outputId": "f16c4b38-19fa-4858-97e9-0a85e045f3fe"
      },
      "execution_count": 1,
      "outputs": [
        {
          "output_type": "stream",
          "name": "stdout",
          "text": [
            "120\n",
            "6\n",
            "1\n"
          ]
        }
      ]
    }
  ]
}