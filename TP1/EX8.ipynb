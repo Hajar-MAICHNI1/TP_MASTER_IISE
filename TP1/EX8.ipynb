{
  "nbformat": 4,
  "nbformat_minor": 0,
  "metadata": {
    "colab": {
      "provenance": []
    },
    "kernelspec": {
      "name": "python3",
      "display_name": "Python 3"
    },
    "language_info": {
      "name": "python"
    }
  },
  "cells": [
    {
      "cell_type": "markdown",
      "source": [
        "# ***Série de Travaux Pratiques N° 1***"
      ],
      "metadata": {
        "id": "JqzbdAdfHD4c"
      }
    },
    {
      "cell_type": "markdown",
      "source": [
        "\n",
        "**Exercices sur les Fonctions**"
      ],
      "metadata": {
        "id": "3tShaZN_HEBU"
      }
    },
    {
      "cell_type": "markdown",
      "source": [
        "**Exercice 8 : Fonctions variadiques**\n",
        "\n",
        "Écrivez une fonction `somme_varargs(*args)` qui prend un nombre variable d'arguments et retourne\n",
        "la somme de ces arguments"
      ],
      "metadata": {
        "id": "P0sWP6sMHEOl"
      }
    },
    {
      "cell_type": "code",
      "source": [
        "#Exercice 8:\n",
        "def somme_varargs(*args):\n",
        "  som=0\n",
        "  for nbr in args:\n",
        "    som += nbr\n",
        "  return som\n",
        "\n",
        "print(somme_varargs(1,2,3,4))"
      ],
      "metadata": {
        "colab": {
          "base_uri": "https://localhost:8080/"
        },
        "id": "aI-M1qewHOjq",
        "outputId": "1d2385f8-6061-42fa-c4b4-0745cdf2cf08"
      },
      "execution_count": 1,
      "outputs": [
        {
          "output_type": "stream",
          "name": "stdout",
          "text": [
            "10\n"
          ]
        }
      ]
    }
  ]
}