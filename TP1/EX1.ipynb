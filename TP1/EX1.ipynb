{
  "cells": [
    {
      "cell_type": "markdown",
      "metadata": {
        "id": "gv_xIlxmB-vl"
      },
      "source": [
        "# ***Série de Travaux Pratiques N° 1***"
      ]
    },
    {
      "cell_type": "markdown",
      "metadata": {
        "id": "MThubUyBCBog"
      },
      "source": [
        "**Exercices sur les Conteneurs**"
      ]
    },
    {
      "cell_type": "markdown",
      "metadata": {
        "id": "-gr9C3bWCHJb"
      },
      "source": [
        "**Exercice 1 : Listes**\n",
        "\n",
        "Écrivez une fonction `somme_liste(liste)` qui prend une liste de nombres en entrée et retourne la somme de ces nombres."
      ]
    },
    {
      "cell_type": "code",
      "execution_count": 1,
      "metadata": {
        "colab": {
          "base_uri": "https://localhost:8080/"
        },
        "id": "LYDqb6sqBypb",
        "outputId": "e0d6ed6e-b9dc-422a-8d31-d3a652cba2d1"
      },
      "outputs": [
        {
          "name": "stdout",
          "output_type": "stream",
          "text": [
            "10\n"
          ]
        }
      ],
      "source": [
        " #Exercice 1:\n",
        "def somme_liste(liste):\n",
        "  som=0\n",
        "  for nbr in liste:\n",
        "    som += nbr\n",
        "  return som\n",
        "print(somme_liste([1,2,3,4]))"
      ]
    }
  ],
  "metadata": {
    "colab": {
      "provenance": []
    },
    "kernelspec": {
      "display_name": "Python 3",
      "name": "python3"
    },
    "language_info": {
      "codemirror_mode": {
        "name": "ipython",
        "version": 3
      },
      "file_extension": ".py",
      "mimetype": "text/x-python",
      "name": "python",
      "nbconvert_exporter": "python",
      "pygments_lexer": "ipython3",
      "version": "3.13.1"
    }
  },
  "nbformat": 4,
  "nbformat_minor": 0
}
