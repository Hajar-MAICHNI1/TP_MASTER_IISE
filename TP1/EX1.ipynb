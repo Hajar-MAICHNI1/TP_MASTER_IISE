{
  "nbformat": 4,
  "nbformat_minor": 0,
  "metadata": {
    "colab": {
      "provenance": []
    },
    "kernelspec": {
      "name": "python3",
      "display_name": "Python 3"
    },
    "language_info": {
      "name": "python"
    }
  },
  "cells": [
    {
      "cell_type": "markdown",
      "source": [
        "# ***Série de Travaux Pratiques N° 1***"
      ],
      "metadata": {
        "id": "gv_xIlxmB-vl"
      }
    },
    {
      "cell_type": "markdown",
      "source": [
        "**Exercices sur les Conteneurs**"
      ],
      "metadata": {
        "id": "MThubUyBCBog"
      }
    },
    {
      "cell_type": "markdown",
      "source": [
        "**Exercice 1 : Listes**\n",
        "\n",
        "Écrivez une fonction `somme_liste(liste)` qui prend une liste de nombres en entrée et retourne la somme de ces nombres."
      ],
      "metadata": {
        "id": "-gr9C3bWCHJb"
      }
    },
    {
      "cell_type": "code",
      "execution_count": 3,
      "metadata": {
        "colab": {
          "base_uri": "https://localhost:8080/"
        },
        "id": "LYDqb6sqBypb",
        "outputId": "e0d6ed6e-b9dc-422a-8d31-d3a652cba2d1"
      },
      "outputs": [
        {
          "output_type": "stream",
          "name": "stdout",
          "text": [
            "10\n"
          ]
        }
      ],
      "source": [
        " #Exercice 1:\n",
        "def somme_liste(liste):\n",
        "  som=0\n",
        "  for nbr in liste:\n",
        "    som += nbr\n",
        "  return som\n",
        "print(somme_liste([1,2,3,4]))"
      ]
    }
  ]
}