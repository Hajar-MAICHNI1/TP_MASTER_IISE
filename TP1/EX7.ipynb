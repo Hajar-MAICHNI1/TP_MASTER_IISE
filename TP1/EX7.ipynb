{
  "nbformat": 4,
  "nbformat_minor": 0,
  "metadata": {
    "colab": {
      "provenance": []
    },
    "kernelspec": {
      "name": "python3",
      "display_name": "Python 3"
    },
    "language_info": {
      "name": "python"
    }
  },
  "cells": [
    {
      "cell_type": "markdown",
      "source": [
        "# ***Série de Travaux Pratiques N° 1***"
      ],
      "metadata": {
        "id": "y6GiRn2DGdqq"
      }
    },
    {
      "cell_type": "markdown",
      "source": [
        "\n",
        "**Exercices sur les Fonctions**"
      ],
      "metadata": {
        "id": "UFVmLqNNGdty"
      }
    },
    {
      "cell_type": "markdown",
      "source": [
        "**Exercice 7 : Fonctions avec es arguments par défaut**\n",
        "\n",
        "Écrivez une fonction `salutation(nom, message=\"Bonjour\")` qui affiche un message de salutation. Le message par défaut doit être \"Bonjour\"."
      ],
      "metadata": {
        "id": "yNwds3c-Gdwz"
      }
    },
    {
      "cell_type": "code",
      "source": [
        "#Exercice 7:\n",
        "def salutation(nom,message=\"Bonjour\"):\n",
        "  return message + \" \" + nom\n",
        "\n",
        "print(salutation(\"hajar\"))"
      ],
      "metadata": {
        "colab": {
          "base_uri": "https://localhost:8080/"
        },
        "id": "VAQG8VktGwf0",
        "outputId": "45846022-6f80-4c18-b031-5b763db5c8a2"
      },
      "execution_count": 1,
      "outputs": [
        {
          "output_type": "stream",
          "name": "stdout",
          "text": [
            "Bonjour hajar\n"
          ]
        }
      ]
    }
  ]
}