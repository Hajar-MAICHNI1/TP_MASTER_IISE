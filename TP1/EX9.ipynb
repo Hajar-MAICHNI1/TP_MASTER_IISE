{
  "nbformat": 4,
  "nbformat_minor": 0,
  "metadata": {
    "colab": {
      "provenance": []
    },
    "kernelspec": {
      "name": "python3",
      "display_name": "Python 3"
    },
    "language_info": {
      "name": "python"
    }
  },
  "cells": [
    {
      "cell_type": "markdown",
      "source": [
        "# ***Série de Travaux Pratiques N° 1***"
      ],
      "metadata": {
        "id": "CkwcVJutHgTq"
      }
    },
    {
      "cell_type": "markdown",
      "source": [
        "\n",
        "**Exercices Combinés**"
      ],
      "metadata": {
        "id": "qDyUeyaPHgW5"
      }
    },
    {
      "cell_type": "markdown",
      "source": [
        "**Exercice 9 : Analyser un texte**\n",
        "\n",
        "Écrivez une fonction `analyse_texte(texte)` qui prend une chaîne de caractères, compte le nombre\n",
        "de mots et retourne un dictionnaire avec le nombre de mots et le nombre de caractères."
      ],
      "metadata": {
        "id": "alhHLelDHgZ9"
      }
    },
    {
      "cell_type": "code",
      "source": [
        "#Exercice 9:\n",
        "def analyse_texte(texte):\n",
        " return len(texte)\n",
        "\n",
        "print(analyse_texte(\"Hello world !!\"))"
      ],
      "metadata": {
        "id": "scHxCGgPHtTA",
        "outputId": "a7186f0f-0571-4af3-97b3-01e4c6703d95",
        "colab": {
          "base_uri": "https://localhost:8080/"
        }
      },
      "execution_count": 1,
      "outputs": [
        {
          "output_type": "stream",
          "name": "stdout",
          "text": [
            "14\n"
          ]
        }
      ]
    }
  ]
}