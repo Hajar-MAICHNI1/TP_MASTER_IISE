{
 "cells": [
  {
   "cell_type": "markdown",
   "metadata": {},
   "source": [
    "# ***Série de Travaux Pratiques N° 3***"
   ]
  },
  {
   "cell_type": "markdown",
   "metadata": {},
   "source": [
    "**Exercice 6 : Système de Gestion de Commandes**\n",
    "- Créez une classe \"Commande\" qui contient un produit (une instance de \"Produit\") et une quantité.\n",
    "- Créez une classe \"Panier\" qui contient une liste de commandes. Ajoutez des méthodes pour ajouter une commande et calculer le total du panier."
   ]
  },
  {
   "cell_type": "code",
   "execution_count": 3,
   "metadata": {},
   "outputs": [
    {
     "name": "stdout",
     "output_type": "stream",
     "text": [
      "Le total du panier est : 65 DH\n"
     ]
    }
   ],
   "source": [
    "class Produit:\n",
    "    def __init__(self, nom, prix):\n",
    "        self.nom = nom\n",
    "        self.prix = prix\n",
    "\n",
    "\n",
    "class Commande:\n",
    "    def __init__(self, produit, quantite):\n",
    "        self.produit = produit\n",
    "        self.quantite = quantite\n",
    "\n",
    "    def calculer_total(self):\n",
    "        return self.produit.prix * self.quantite\n",
    "\n",
    "class Panier:\n",
    "    def __init__(self):\n",
    "        self.commandes = [] #liste\n",
    "\n",
    "    def ajouter_commande(self, commande):\n",
    "        self.commandes.append(commande)\n",
    "\n",
    "    def calculer_total_panier(self):\n",
    "        total = sum(commande.calculer_total() for commande in self.commandes)\n",
    "        return total\n",
    "\n",
    "\n",
    "# Exemple \n",
    "\n",
    "# Création de quelques produits\n",
    "produit1 = Produit(\"shampoing\", 56)\n",
    "produit2 = Produit(\"Biscuit\", 3)\n",
    "\n",
    "# Création de commandes\n",
    "commande1 = Commande(produit1, 1) \n",
    "commande2 = Commande(produit2, 3)  \n",
    "\n",
    "# Création d'un panier et ajout des commandes\n",
    "panier = Panier()\n",
    "panier.ajouter_commande(commande1)\n",
    "panier.ajouter_commande(commande2)\n",
    "\n",
    "# Calcul du total du panier\n",
    "total = panier.calculer_total_panier()\n",
    "print(f\"Le total du panier est : {total} DH\")\n"
   ]
  }
 ],
 "metadata": {
  "kernelspec": {
   "display_name": "Python 3",
   "language": "python",
   "name": "python3"
  },
  "language_info": {
   "codemirror_mode": {
    "name": "ipython",
    "version": 3
   },
   "file_extension": ".py",
   "mimetype": "text/x-python",
   "name": "python",
   "nbconvert_exporter": "python",
   "pygments_lexer": "ipython3",
   "version": "3.13.1"
  }
 },
 "nbformat": 4,
 "nbformat_minor": 2
}
