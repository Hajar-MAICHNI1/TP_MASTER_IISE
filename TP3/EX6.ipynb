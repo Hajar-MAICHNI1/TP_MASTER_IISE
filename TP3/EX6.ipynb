{
 "cells": [
  {
   "cell_type": "markdown",
   "metadata": {},
   "source": [
    "# ***Série de Travaux Pratiques N° 3***"
   ]
  },
  {
   "cell_type": "markdown",
   "metadata": {},
   "source": [
    "**Exercice 6 : Système de Gestion de Commandes**\n",
    "- Créez une classe \"Commande\" qui contient un produit (une instance de \"Produit\") et une quantité.\n",
    "- Créez une classe \"Panier\" qui contient une liste de commandes. Ajoutez des méthodes pour ajouter une commande et calculer le total du panier."
   ]
  }
 ],
 "metadata": {
  "language_info": {
   "name": "python"
  }
 },
 "nbformat": 4,
 "nbformat_minor": 2
}
