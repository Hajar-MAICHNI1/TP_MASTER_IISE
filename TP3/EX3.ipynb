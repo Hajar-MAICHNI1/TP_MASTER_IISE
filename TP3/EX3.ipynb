{
 "cells": [
  {
   "cell_type": "markdown",
   "metadata": {},
   "source": [
    "# ***Série de Travaux Pratiques N° 3***"
   ]
  },
  {
   "cell_type": "markdown",
   "metadata": {},
   "source": [
    "**Exercice 3 : Polymorphisme**\n",
    "- Créez une fonction \"afficher_surface\" qui prend en paramètre une liste d'objets de type \"Forme\" et affiche la surface de chaque forme. Utilisez le polymorphisme pour appeler \"calculer_surface\" sur chaque forme."
   ]
  },
  {
   "cell_type": "code",
   "execution_count": 1,
   "metadata": {},
   "outputs": [
    {
     "name": "stdout",
     "output_type": "stream",
     "text": [
      "Surface de la forme 'Cercle' : 78.53981633974483\n",
      "Surface de la forme 'Rectangle' : 24\n"
     ]
    }
   ],
   "source": [
    "from abc import ABC, abstractmethod\n",
    "from math import pi\n",
    "\n",
    "class Forme(ABC):\n",
    "    @abstractmethod\n",
    "    def calculer_surface(self):\n",
    "        pass\n",
    "\n",
    "class Cercle(Forme):\n",
    "    def __init__(self, rayon):\n",
    "        self.rayon = rayon\n",
    "\n",
    "    def calculer_surface(self):\n",
    "        return pi * (self.rayon ** 2)\n",
    "\n",
    "class Rectangle(Forme):\n",
    "    def __init__(self, longueur, largeur):\n",
    "        self.longueur = longueur\n",
    "        self.largeur = largeur\n",
    "\n",
    "    def calculer_surface(self):\n",
    "        return self.longueur * self.largeur\n",
    "\n",
    "def afficher_surface (formes): \n",
    "    for forme in formes:\n",
    "        surface= forme.calculer_surface()\n",
    "        print(f\"Surface de la forme '{type(forme).__name__}' : {surface}\")\n",
    "        #print(f\"Surface du cercle : {cercle.calculer_surface()}\")\n",
    "        #print(f\"Surface du rectangle : {rectangle.calculer_surface()}\")\n",
    "    \n",
    "\n",
    "if __name__ == \"__main__\":\n",
    "    #cercle = Cercle(5)\n",
    "    #rectangle = Rectangle(4, 6)\n",
    "    formes = [Cercle(5), Rectangle(4, 6)]\n",
    "    \n",
    "    afficher_surface(formes)    "
   ]
  }
 ],
 "metadata": {
  "kernelspec": {
   "display_name": "Python 3",
   "language": "python",
   "name": "python3"
  },
  "language_info": {
   "codemirror_mode": {
    "name": "ipython",
    "version": 3
   },
   "file_extension": ".py",
   "mimetype": "text/x-python",
   "name": "python",
   "nbconvert_exporter": "python",
   "pygments_lexer": "ipython3",
   "version": "3.13.1"
  }
 },
 "nbformat": 4,
 "nbformat_minor": 2
}
