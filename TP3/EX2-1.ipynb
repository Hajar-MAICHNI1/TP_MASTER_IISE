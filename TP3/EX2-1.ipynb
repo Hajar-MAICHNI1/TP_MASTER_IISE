{
 "cells": [
  {
   "cell_type": "markdown",
   "metadata": {},
   "source": [
    "# ***Série de Travaux Pratiques N° 3***"
   ]
  },
  {
   "cell_type": "markdown",
   "metadata": {},
   "source": [
    "**Exercice 2 : Classe \"Personne\" avec Encapsulation**\n",
    "- Créez une classe \"Personne\" avec des attributs privés \"__nom\", \"__prenom\", et \"__age\".\n",
    "- Ajoutez des méthodes publiques pour obtenir et modifier ces attributs, en validant les entrées."
   ]
  },
  {
   "cell_type": "code",
   "execution_count": 1,
   "metadata": {},
   "outputs": [
    {
     "name": "stdout",
     "output_type": "stream",
     "text": [
      "Maichni\n"
     ]
    }
   ],
   "source": [
    "class Personne:\n",
    "    def __init__(self, nom, prenom, age):\n",
    "        self.nom = nom\n",
    "        self.prenom = prenom\n",
    "        self.age = age\n",
    "\n",
    "    \n",
    "    def get_nom(self):\n",
    "        return self.nom\n",
    "    \n",
    "    def set_nom(self, valeur):\n",
    "        self.nom = valeur\n",
    "\n",
    "    \n",
    "    def get_prenom(self):\n",
    "        return self.prenom \n",
    "\n",
    "    def set_prenom(self, valeur):\n",
    "        self.prenom = valeur\n",
    "\n",
    "    def get_age(self): \n",
    "        return self.age\n",
    "\n",
    "    def set_age(self, valeur):\n",
    "        if valeur < 0:\n",
    "            print(\"Error\")\n",
    "        self.age = valeur\n",
    "\n",
    "# Exemple\n",
    "if __name__ == \"__main__\":\n",
    "    per1 = Personne(\"Maichni\", \"Hajar\", 21)\n",
    "    print(per1.get_nom())\n",
    "    #print(per1.nom())\n",
    "\n",
    "    # Affichage des attributs\n",
    "    # print(f\"Nom: {personne.nom}\")\n",
    "    # print(f\"Prénom: {personne.prenom}\")\n",
    "    # print(f\"Âge: {personne.age}\")\n",
    "\n",
    "\n",
    "    #print(personne._Personne__nom) METHODE ACCES \n",
    "\n",
    "    # Modification des attributs\n",
    "    # personne.nom = \"DAMANI\"\n",
    "    # personne.prenom = \"Khaoula\"\n",
    "    # personne.age = 21\n",
    "\n",
    "    # # Affichage des nouveaux attributs\n",
    "    # print(f\"Nouveau Nom: {personne.nom}\")\n",
    "    # print(f\"Nouveau Prénom: {personne.prenom}\")\n",
    "    # print(f\"Nouvel Âge: {personne.age}\")\n",
    "\n",
    "   "
   ]
  }
 ],
 "metadata": {
  "kernelspec": {
   "display_name": "Python 3",
   "language": "python",
   "name": "python3"
  },
  "language_info": {
   "codemirror_mode": {
    "name": "ipython",
    "version": 3
   },
   "file_extension": ".py",
   "mimetype": "text/x-python",
   "name": "python",
   "nbconvert_exporter": "python",
   "pygments_lexer": "ipython3",
   "version": "3.13.1"
  }
 },
 "nbformat": 4,
 "nbformat_minor": 2
}
