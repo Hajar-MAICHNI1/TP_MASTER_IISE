{
  "cells": [
    {
      "cell_type": "markdown",
      "metadata": {
        "id": "gv_xIlxmB-vl"
      },
      "source": [
        "# ***Série de Travaux Pratiques N° 3***"
      ]
    },
    {
      "cell_type": "markdown",
      "metadata": {
        "id": "-gr9C3bWCHJb"
      },
      "source": [
        "**Exercice 1 :  Classe de Base \"Forme\"**\n",
        "\n",
        "- Créez une classe de base \"Forme\" avec une méthode abstraite \"calculer_surface\".\n",
        "- Créez des sous-classes \"Cercle\" et \"Rectangle\" qui implémentent la méthode \"calculer_surface\"."
      ]
    },
    {
      "cell_type": "code",
      "execution_count": 1,
      "metadata": {
        "colab": {
          "base_uri": "https://localhost:8080/"
        },
        "id": "LYDqb6sqBypb",
        "outputId": "e0d6ed6e-b9dc-422a-8d31-d3a652cba2d1"
      },
      "outputs": [
        {
          "name": "stdout",
          "output_type": "stream",
          "text": [
            "Surface du cercle : 78.53981633974483\n",
            "Surface du rectangle : 24\n"
          ]
        }
      ],
      "source": [
        "from abc import ABC, abstractmethod\n",
        "from math import pi\n",
        "\n",
        "class Forme(ABC):\n",
        "    @abstractmethod\n",
        "    def calculer_surface(self):\n",
        "        pass\n",
        "\n",
        "class Cercle(Forme):\n",
        "    def __init__(self, rayon):\n",
        "        self.rayon = rayon\n",
        "\n",
        "    def calculer_surface(self):\n",
        "        return pi * (self.rayon ** 2)\n",
        "\n",
        "class Rectangle(Forme):\n",
        "    def __init__(self, longueur, largeur):\n",
        "        self.longueur = longueur\n",
        "        self.largeur = largeur\n",
        "\n",
        "    def calculer_surface(self):\n",
        "        return self.longueur * self.largeur\n",
        "\n",
        "if __name__ == \"__main__\":\n",
        "    cercle = Cercle(5)\n",
        "    print(f\"Surface du cercle : {cercle.calculer_surface()}\")\n",
        "\n",
        "    rectangle = Rectangle(4, 6)\n",
        "    print(f\"Surface du rectangle : {rectangle.calculer_surface()}\")\n"
      ]
    }
  ],
  "metadata": {
    "colab": {
      "provenance": []
    },
    "kernelspec": {
      "display_name": "Python 3",
      "name": "python3"
    },
    "language_info": {
      "codemirror_mode": {
        "name": "ipython",
        "version": 3
      },
      "file_extension": ".py",
      "mimetype": "text/x-python",
      "name": "python",
      "nbconvert_exporter": "python",
      "pygments_lexer": "ipython3",
      "version": "3.13.1"
    }
  },
  "nbformat": 4,
  "nbformat_minor": 0
}
