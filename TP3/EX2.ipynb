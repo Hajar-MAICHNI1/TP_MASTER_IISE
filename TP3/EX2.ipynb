{
 "cells": [
  {
   "cell_type": "markdown",
   "metadata": {},
   "source": [
    "# ***Série de Travaux Pratiques N° 3***"
   ]
  },
  {
   "cell_type": "markdown",
   "metadata": {},
   "source": [
    "**Exercice 2 : Classe \"Personne\" avec Encapsulation**\n",
    "- Créez une classe \"Personne\" avec des attributs privés \"__nom\", \"__prenom\", et \"__age\".\n",
    "- Ajoutez des méthodes publiques pour obtenir et modifier ces attributs, en validant les entrées."
   ]
  },
  {
   "cell_type": "code",
   "execution_count": 1,
   "metadata": {},
   "outputs": [
    {
     "name": "stdout",
     "output_type": "stream",
     "text": [
      "Nom: Maichni\n",
      "Prénom: Hajar\n",
      "Âge: 21\n",
      "//////////////////\n",
      "Nouveau Nom: Maichni\n",
      "Nouveau Prénom: Khaoula\n",
      "Nouvel Âge: 21\n"
     ]
    }
   ],
   "source": [
    "class Personne:\n",
    "    def __init__(self, nom, prenom, age):\n",
    "        self.__nom = nom\n",
    "        self.__prenom = prenom\n",
    "        self.__age = age\n",
    "\n",
    "    @property\n",
    "    def nom(self):\n",
    "        return self.__nom\n",
    "\n",
    "    @nom.setter\n",
    "    def nom(self, valeur):\n",
    "        self.__nom = valeur\n",
    "\n",
    "    @property\n",
    "    def prenom(self):\n",
    "        return self.__prenom \n",
    "\n",
    "    @prenom.setter\n",
    "    def prenom(self, valeur):\n",
    "        self.__prenom = valeur\n",
    "\n",
    "    @property\n",
    "    def age(self): \n",
    "        return self.__age\n",
    "\n",
    "    @age.setter\n",
    "    def age(self, valeur):\n",
    "        if valeur < 0:\n",
    "            print(\"Error\")\n",
    "        self.__age = valeur\n",
    "\n",
    "# Exemple\n",
    "if __name__ == \"__main__\":\n",
    "    personne = Personne(\"Maichni\", \"Hajar\", 21)\n",
    "\n",
    "    # Affichage des attributs\n",
    "    print(f\"Nom: {personne.nom}\")\n",
    "    print(f\"Prénom: {personne.prenom}\")\n",
    "    print(f\"Âge: {personne.age}\")\n",
    "    #print(personne._Personne__nom) #METHODE ACCES a l'attribut (NAME mangling) si il est privée\n",
    "\n",
    "    # Modification des attributs\n",
    "    #personne.nom = \"DA\"\n",
    "    personne.prenom = \"Khaoula\"\n",
    "    #personne.age = 21\n",
    "\n",
    "    # Affichage des nouveaux attributs\n",
    "    print(f\"//////////////////\")\n",
    "    print(f\"Nouveau Nom: {personne.nom}\")\n",
    "    print(f\"Nouveau Prénom: {personne.prenom}\")\n",
    "    print(f\"Nouvel Âge: {personne.age}\")\n"
   ]
  }
 ],
 "metadata": {
  "kernelspec": {
   "display_name": "Python 3",
   "language": "python",
   "name": "python3"
  },
  "language_info": {
   "codemirror_mode": {
    "name": "ipython",
    "version": 3
   },
   "file_extension": ".py",
   "mimetype": "text/x-python",
   "name": "python",
   "nbconvert_exporter": "python",
   "pygments_lexer": "ipython3",
   "version": "3.13.1"
  }
 },
 "nbformat": 4,
 "nbformat_minor": 2
}
