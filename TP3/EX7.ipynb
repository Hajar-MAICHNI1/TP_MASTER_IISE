{
 "cells": [
  {
   "cell_type": "markdown",
   "metadata": {},
   "source": [
    "# ***Série de Travaux Pratiques N° 3***"
   ]
  },
  {
   "cell_type": "markdown",
   "metadata": {},
   "source": [
    "**Exercice 7 : Classe \"Vehicule\" avec Méthodes Abstraites**\n",
    "- Créez une classe abstraite \"Vehicule\" avec une méthode abstraite \"deplacer\".\n",
    "- Créez des sous-classes \"Voiture\" et \"Bicyclette\" qui implémentent la méthode \"deplacer\" de manière spécifique."
   ]
  },
  {
   "cell_type": "code",
   "execution_count": 1,
   "metadata": {},
   "outputs": [
    {
     "name": "stdout",
     "output_type": "stream",
     "text": [
      "La voiture.\n",
      "La bicyclette.\n"
     ]
    }
   ],
   "source": [
    "from abc import ABC, abstractmethod\n",
    "\n",
    "class Vehicule(ABC):\n",
    "    @abstractmethod\n",
    "    def deplacer(self):\n",
    "        pass\n",
    "\n",
    "class Voiture(Vehicule):\n",
    "    def deplacer(self):\n",
    "        return \"La voiture.\"\n",
    "\n",
    "class Bicyclette(Vehicule):\n",
    "    def deplacer(self):\n",
    "        return \"La bicyclette.\"\n",
    "\n",
    "# Exemple d'utilisation :\n",
    "voiture = Voiture()\n",
    "bicyclette = Bicyclette()\n",
    "\n",
    "print(voiture.deplacer())  \n",
    "print(bicyclette.deplacer())  "
   ]
  }
 ],
 "metadata": {
  "kernelspec": {
   "display_name": "Python 3",
   "language": "python",
   "name": "python3"
  },
  "language_info": {
   "codemirror_mode": {
    "name": "ipython",
    "version": 3
   },
   "file_extension": ".py",
   "mimetype": "text/x-python",
   "name": "python",
   "nbconvert_exporter": "python",
   "pygments_lexer": "ipython3",
   "version": "3.13.1"
  }
 },
 "nbformat": 4,
 "nbformat_minor": 2
}
