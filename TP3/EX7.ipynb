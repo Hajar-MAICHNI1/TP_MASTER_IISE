{
 "cells": [
  {
   "cell_type": "markdown",
   "metadata": {},
   "source": [
    "# ***Série de Travaux Pratiques N° 3***"
   ]
  },
  {
   "cell_type": "markdown",
   "metadata": {},
   "source": [
    "**Exercice 7 : Classe \"Vehicule\" avec Méthodes Abstraites**\n",
    "- Créez une classe abstraite \"Vehicule\" avec une méthode abstraite \"deplacer\".\n",
    "- Créez des sous-classes \"Voiture\" et \"Bicyclette\" qui implémentent la méthode \"deplacer\" de manière spécifique."
   ]
  }
 ],
 "metadata": {
  "language_info": {
   "name": "python"
  }
 },
 "nbformat": 4,
 "nbformat_minor": 2
}
