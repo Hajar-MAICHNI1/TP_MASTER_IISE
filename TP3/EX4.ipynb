{
 "cells": [
  {
   "cell_type": "markdown",
   "metadata": {},
   "source": [
    "# ***Série de Travaux Pratiques N° 3***"
   ]
  },
  {
   "cell_type": "markdown",
   "metadata": {},
   "source": [
    "**Exercice 4 : Gestion de Produits avec Encapsulation**\n",
    "- Créez une classe \"Produit\" avec des attributs privés pour le nom et le prix.\n",
    "- Ajoutez des méthodes pour calculer le prix avec une remise. La remise doit être appliquée uniquement si le prix est supérieur à un certain montant.\n"
   ]
  },
  {
   "cell_type": "code",
   "execution_count": 2,
   "metadata": {},
   "outputs": [
    {
     "name": "stdout",
     "output_type": "stream",
     "text": [
      "Prix original du produit Laptop : 5000 DH\n",
      "Prix du produit Laptop avec remise de 10 % : 4500.0 DH\n"
     ]
    }
   ],
   "source": [
    "class Produit():\n",
    "    def __init__(self, nom , prix ):\n",
    "        self.prix = prix\n",
    "        self.nom = nom\n",
    "        #pass\n",
    "\n",
    "    def  calculer_prix_remise( self, remise , seuil):\n",
    "        if self.prix > seuil:\n",
    "            return self.prix*(1-remise/100)\n",
    "        return self.prix\n",
    "    \n",
    "    def get_prix(self):\n",
    "        return self.__prix\n",
    "\n",
    "# Exemple \n",
    "if __name__ == \"__main__\":\n",
    "    produit = Produit(\"Laptop\", 5000)\n",
    "    \n",
    "    # Affichage \n",
    "    print(f\"Prix original du produit {produit.nom} : {produit.prix} DH\")\n",
    "    \n",
    "    # Calcul et affichage du prix avec remise\n",
    "    remise = 10  \n",
    "    seuil = 1000  \n",
    "    prix_avec_remise = produit.calculer_prix_remise(remise, seuil)\n",
    "    print(f\"Prix du produit {produit.nom} avec remise de {remise} % : {prix_avec_remise} DH\")\n",
    "    \n",
    "    #print(f\"Prix avec remise du produit {produit.get_prix}\")\n",
    "\n"
   ]
  }
 ],
 "metadata": {
  "kernelspec": {
   "display_name": "Python 3",
   "language": "python",
   "name": "python3"
  },
  "language_info": {
   "codemirror_mode": {
    "name": "ipython",
    "version": 3
   },
   "file_extension": ".py",
   "mimetype": "text/x-python",
   "name": "python",
   "nbconvert_exporter": "python",
   "pygments_lexer": "ipython3",
   "version": "3.13.1"
  }
 },
 "nbformat": 4,
 "nbformat_minor": 2
}
