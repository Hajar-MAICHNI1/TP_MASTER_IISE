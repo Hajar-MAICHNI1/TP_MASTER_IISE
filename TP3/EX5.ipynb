{
 "cells": [
  {
   "cell_type": "markdown",
   "metadata": {},
   "source": [
    "# ***Série de Travaux Pratiques N° 3***"
   ]
  },
  {
   "cell_type": "markdown",
   "metadata": {},
   "source": [
    "**Exercice 5 : Classe \"Employe\" et Sous-classe \"Manager\"**\n",
    "- Créez une classe \"Employe\" avec des attributs pour le nom, le prénom, et le salaire.\n",
    "- Créez une sous-classe \"Manager\" qui hérite d\"'Employe\" et ajoute un attribut pour la liste des employés sous sa supervision. Ajoutez des méthodes pour ajouter et afficher les employés supervisés."
   ]
  },
  {
   "cell_type": "code",
   "execution_count": 1,
   "metadata": {},
   "outputs": [
    {
     "name": "stdout",
     "output_type": "stream",
     "text": [
      "Les employés supervisés par le manager\n",
      "Khaoula DAMANI supervise les employés suivants :\n",
      "Nom: MAICHNI, Prénom: Hajar, Salaire: 70000 DH\n",
      "Nom: BOURAGREG, Prénom: Lamyae, Salaire: 30000 DH\n",
      "///////////\n",
      "Les informations du manager\n",
      "Nom: DAMANI, Prénom: Khaoula, Salaire: 80000 DH\n"
     ]
    }
   ],
   "source": [
    "class Employe():\n",
    "    def __init__(self, nom, prenom, salaire):\n",
    "        self.nom = nom\n",
    "        self.prenom = prenom\n",
    "        self.salaire = salaire\n",
    "        \n",
    "    def afficher_informations(self):\n",
    "            print(f\"Nom: {self.nom}, Prénom: {self.prenom}, Salaire: {self.salaire} DH\")\n",
    "\n",
    "class Manager(Employe):\n",
    "     def __init__(self, nom, prenom, salaire):\n",
    "          super().__init__(nom, prenom, salaire)\n",
    "          self.employes_supervises= []  \n",
    "\n",
    "     def ajouter_employe(self, employe):\n",
    "          if isinstance(employe, Employe):\n",
    "               self.employes_supervises.append(employe)\n",
    "          else:\n",
    "               print(\"Erreur\")\n",
    "\n",
    "     def afficher_employes_supervises(self):\n",
    "         print(f\"{self.prenom} {self.nom} supervise les employés suivants :\")\n",
    "         for employe in self.employes_supervises:\n",
    "            employe.afficher_informations()\n",
    "               \n",
    "# Création d'employés\n",
    "employe1 = Employe(\"MAICHNI\", \"Hajar\", 70000)\n",
    "employe2 = Employe(\"BOURAGREG\", \"Lamyae\", 30000)\n",
    "employe3 = Employe(\"MAICHNI\", \"CHAIMAE\", 3000)\n",
    "\n",
    "# Création d'un manager\n",
    "manager = Manager(\"DAMANI\", \"Khaoula\", 80000)\n",
    "\n",
    "# Ajout d'employés au manager\n",
    "manager.ajouter_employe(employe1)\n",
    "manager.ajouter_employe(employe2)\n",
    "\n",
    "# Affichage des employés supervisés par le manager\n",
    "print(f\"Les employés supervisés par le manager\")\n",
    "manager.afficher_employes_supervises()\n",
    "print(f\"///////////\")\n",
    "# Affichage des informations du manager\n",
    "print(f\"Les informations du manager\")\n",
    "manager.afficher_informations()\n",
    "                             "
   ]
  }
 ],
 "metadata": {
  "kernelspec": {
   "display_name": "Python 3",
   "language": "python",
   "name": "python3"
  },
  "language_info": {
   "codemirror_mode": {
    "name": "ipython",
    "version": 3
   },
   "file_extension": ".py",
   "mimetype": "text/x-python",
   "name": "python",
   "nbconvert_exporter": "python",
   "pygments_lexer": "ipython3",
   "version": "3.13.1"
  }
 },
 "nbformat": 4,
 "nbformat_minor": 2
}
