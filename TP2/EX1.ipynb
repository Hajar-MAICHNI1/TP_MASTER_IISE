{
 "cells": [
  {
   "cell_type": "markdown",
   "metadata": {
    "id": "Ueim7b_4Ykji"
   },
   "source": [
    "# ***Série de Travaux Pratiques N° 2***"
   ]
  },
  {
   "cell_type": "markdown",
   "metadata": {
    "id": "LRXtlXouYkmr"
   },
   "source": [
    "**Exercice 1 : Classe \"Chien\"**\n",
    "- Créez une classe \"Chien\" avec les attributs suivants : \"nom\", \"race\", et \"age\".\n",
    "- Ajoutez une méthode \"aboyer\" qui affiche \"Woof!\".\n",
    "- Créez une instance de \"Chien\" et appelez la méthode \"aboyer\"."
   ]
  },
  {
   "cell_type": "code",
   "execution_count": null,
   "metadata": {
    "colab": {
     "base_uri": "https://localhost:8080/"
    },
    "executionInfo": {
     "elapsed": 232,
     "status": "ok",
     "timestamp": 1733411726969,
     "user": {
      "displayName": "hajar maichni",
      "userId": "01708074841747565281"
     },
     "user_tz": -60
    },
    "id": "bhyiZKhyYnYi",
    "outputId": "8f46d8f0-5450-421c-f2ac-b794918902c5"
   },
   "outputs": [
    {
     "name": "stdout",
     "output_type": "stream",
     "text": [
      "Woof!\n"
     ]
    }
   ],
   "source": [
    "class Chien:\n",
    "  def __init__(self,nom,race,age):\n",
    "    self.nom=nom\n",
    "    self.race=race\n",
    "    self.age=age\n",
    "\n",
    "  def aboyer(self):\n",
    "    print(\"Woof!\")\n",
    "\n",
    "chien1=Chien(\"Puppy\",\"caniche\",3)\n",
    "\n",
    "chien1.aboyer()"
   ]
  }
 ],
 "metadata": {
  "colab": {
   "authorship_tag": "ABX9TyNoOt4ozWoYihMvM/XCLUX7",
   "provenance": []
  },
  "kernelspec": {
   "display_name": "Python 3",
   "name": "python3"
  },
  "language_info": {
   "name": "python"
  }
 },
 "nbformat": 4,
 "nbformat_minor": 0
}
